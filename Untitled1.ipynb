{
  "nbformat": 4,
  "nbformat_minor": 0,
  "metadata": {
    "colab": {
      "name": "Untitled1.ipynb",
      "provenance": [],
      "authorship_tag": "ABX9TyORIGDLc0Cy3DM9B32biSw6",
      "include_colab_link": true
    },
    "kernelspec": {
      "name": "python3",
      "display_name": "Python 3"
    }
  },
  "cells": [
    {
      "cell_type": "markdown",
      "metadata": {
        "id": "view-in-github",
        "colab_type": "text"
      },
      "source": [
        "<a href=\"https://colab.research.google.com/github/Rodrigo-JB/Treas_De_Rodrigo_JB/blob/main/Untitled1.ipynb\" target=\"_parent\"><img src=\"https://colab.research.google.com/assets/colab-badge.svg\" alt=\"Open In Colab\"/></a>"
      ]
    },
    {
      "cell_type": "code",
      "metadata": {
        "colab": {
          "base_uri": "https://localhost:8080/"
        },
        "id": "bsHIyurNWIwl",
        "outputId": "18743f3d-367d-4b6f-f8a5-0fcc439fff29"
      },
      "source": [
        "print(\"¿Cual es tu nombre?\")\r\n",
        "\r\n",
        "Nombres = input()\r\n",
        "\r\n",
        "P1_apellido = input(\"¿Cual es tu primer apellido? \")\r\n",
        "\r\n",
        "S2_apellido = input(\"¿Cual es tu segundo apellido? \")\r\n",
        "\r\n",
        "print(\"Mi nombre es\", Nombres, P1_apellido, S2_apellido)\r\n"
      ],
      "execution_count": 11,
      "outputs": [
        {
          "output_type": "stream",
          "text": [
            "¿Cual es tu nombre?\n",
            "Rodrigo\n",
            "¿Cual es tu primer apellido? Juarez\n",
            "¿Cual es tu segundo apellido? Balderas\n",
            "Mi nombre es Rodrigo Juarez Balderas\n"
          ],
          "name": "stdout"
        }
      ]
    },
    {
      "cell_type": "code",
      "metadata": {
        "id": "zh0k8YJBoTGt"
      },
      "source": [
        ""
      ],
      "execution_count": null,
      "outputs": []
    }
  ]
}